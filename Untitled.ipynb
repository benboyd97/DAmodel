{
 "cells": [
  {
   "cell_type": "code",
   "execution_count": 1,
   "id": "44022519",
   "metadata": {},
   "outputs": [],
   "source": [
    "import gzip\n",
    "import shutil\n",
    "\n",
    "# Path to the existing .npz file\n",
    "original_file = \"hubeny_grid.npz\"\n",
    "compressed_file = \"hubeny_grid.npz.gz\"\n",
    "\n",
    "# Compress the file\n",
    "with open(original_file, 'rb') as f_in:\n",
    "    with gzip.open(compressed_file, 'wb') as f_out:\n",
    "        shutil.copyfileobj(f_in, f_out)"
   ]
  },
  {
   "cell_type": "code",
   "execution_count": null,
   "id": "e68b94be",
   "metadata": {},
   "outputs": [],
   "source": []
  }
 ],
 "metadata": {
  "kernelspec": {
   "display_name": "Python 3 (ipykernel)",
   "language": "python",
   "name": "python3"
  },
  "language_info": {
   "codemirror_mode": {
    "name": "ipython",
    "version": 3
   },
   "file_extension": ".py",
   "mimetype": "text/x-python",
   "name": "python",
   "nbconvert_exporter": "python",
   "pygments_lexer": "ipython3",
   "version": "3.10.10"
  }
 },
 "nbformat": 4,
 "nbformat_minor": 5
}
